{
 "cells": [
  {
   "cell_type": "markdown",
   "id": "c81bd2b7",
   "metadata": {},
   "source": [
    "# Data Science Tools and Ecosystem"
   ]
  },
  {
   "cell_type": "markdown",
   "id": "776ece0c",
   "metadata": {},
   "source": [
    "In this notebook, Data Science Tools and Ecosystem are summarized."
   ]
  },
  {
   "cell_type": "markdown",
   "id": "0a3f9574",
   "metadata": {},
   "source": [
    "Some of the popular languages that Data Scientists use are:\n",
    "- Python\n",
    "- R\n",
    "- C++\n",
    "- Java"
   ]
  },
  {
   "cell_type": "markdown",
   "id": "dac0983c",
   "metadata": {},
   "source": [
    "Some of the commonly used libraries used by Data Scientists include:\n",
    "- TensorFlow\n",
    "- Numpy\n",
    "- Scipy\n",
    "- Pandas\n",
    "- Matplotlib"
   ]
  },
  {
   "cell_type": "markdown",
   "id": "10ae12da",
   "metadata": {},
   "source": [
    "## Data Science Tools:\n",
    "    Jupyter Notebook\n",
    "    Jupyter Lab\n",
    "    R Studio\n",
    "    "
   ]
  },
  {
   "cell_type": "markdown",
   "id": "ea9bcc86",
   "metadata": {},
   "source": [
    "### Below are a few examples of evaluating arithmetic expressions in Python:\n",
    "     2+2 = 4\n",
    "     5-2 = 3"
   ]
  },
  {
   "cell_type": "code",
   "execution_count": 5,
   "id": "5a00ef73",
   "metadata": {},
   "outputs": [
    {
     "data": {
      "text/plain": [
       "17"
      ]
     },
     "execution_count": 5,
     "metadata": {},
     "output_type": "execute_result"
    }
   ],
   "source": [
    "# This a simple arithmetic expression to mutiply then add integers.\n",
    "(3*4)+5"
   ]
  },
  {
   "cell_type": "code",
   "execution_count": 7,
   "id": "5a85731c",
   "metadata": {},
   "outputs": [
    {
     "name": "stdout",
     "output_type": "stream",
     "text": [
      "120 Minutes in 2 hours\n"
     ]
    }
   ],
   "source": [
    "# This will convert 200 minutes to hours by diving by 60\n",
    "hours = 2\n",
    "print(hours*60,'Minutes in',hours,'hours')"
   ]
  },
  {
   "cell_type": "markdown",
   "id": "516d1c67",
   "metadata": {},
   "source": [
    "## Objectives:\n",
    "   - Python\n",
    "   - Java\n",
    "   - C++\n",
    "   "
   ]
  },
  {
   "cell_type": "markdown",
   "id": "eced986c",
   "metadata": {},
   "source": [
    "### Author:\n",
    "Rajan Malaviya"
   ]
  },
  {
   "cell_type": "code",
   "execution_count": null,
   "id": "75c2433d",
   "metadata": {},
   "outputs": [],
   "source": []
  }
 ],
 "metadata": {
  "kernelspec": {
   "display_name": "Python 3 (ipykernel)",
   "language": "python",
   "name": "python3"
  },
  "language_info": {
   "codemirror_mode": {
    "name": "ipython",
    "version": 3
   },
   "file_extension": ".py",
   "mimetype": "text/x-python",
   "name": "python",
   "nbconvert_exporter": "python",
   "pygments_lexer": "ipython3",
   "version": "3.9.13"
  }
 },
 "nbformat": 4,
 "nbformat_minor": 5
}
